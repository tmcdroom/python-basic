{
 "cells": [
  {
   "cell_type": "markdown",
   "metadata": {},
   "source": [
    "# python-basic2\n",
    "# いよいよ実践問題です　わからないところはグーグルなどで調べながら取り組みましょう！"
   ]
  },
  {
   "cell_type": "markdown",
   "metadata": {},
   "source": [
    "## (No.1)  1 + 2 + ・・・・12345 = ? "
   ]
  },
  {
   "cell_type": "code",
   "execution_count": null,
   "metadata": {},
   "outputs": [],
   "source": [
    "# 問題通り　全部足して　答えましょう　（1+12345)*12345/2 はダメ\n"
   ]
  },
  {
   "cell_type": "markdown",
   "metadata": {},
   "source": [
    "## (No.2) 以下の配列をnumpy配列に変換し逆順で呼びだしましょう"
   ]
  },
  {
   "cell_type": "code",
   "execution_count": null,
   "metadata": {},
   "outputs": [],
   "source": [
    "a = [10,20,30,40,50,60,70,80]\n"
   ]
  },
  {
   "cell_type": "markdown",
   "metadata": {},
   "source": [
    "## (No.3)  2秒間隔で5回　'Hello n回目' と表示し、5回表示に掛かった時間を計測しましょう（本当に10秒で終わったか確認する）"
   ]
  },
  {
   "cell_type": "code",
   "execution_count": null,
   "metadata": {},
   "outputs": [],
   "source": [
    "\n",
    "    "
   ]
  },
  {
   "cell_type": "markdown",
   "metadata": {},
   "source": [
    "## (No.4) じゃんけんゲームを作る1  キーボードでrock(グー）、paper(パー）、scissors(チョキ）を入力し、絶対勝てないじゃんけんゲームをまず作ってみましょう\n",
    "## それ以外のワードを入れるとGAME OVER と表示しましょう"
   ]
  },
  {
   "cell_type": "code",
   "execution_count": null,
   "metadata": {},
   "outputs": [],
   "source": [
    "\n",
    "    "
   ]
  },
  {
   "cell_type": "markdown",
   "metadata": {},
   "source": [
    "## (No.5) じゃんけんゲームを作る2  流石につまらないので ランダムに結果がでるようにして遊べるようにしましょう"
   ]
  },
  {
   "cell_type": "code",
   "execution_count": null,
   "metadata": {},
   "outputs": [],
   "source": [
    "\n"
   ]
  },
  {
   "cell_type": "markdown",
   "metadata": {},
   "source": [
    "# お遊びはここまで　ここからはより実践的な課題にチャレンジしましょう"
   ]
  },
  {
   "cell_type": "markdown",
   "metadata": {},
   "source": [
    "## (No.6) PIL形式で画像(deepcat.png)を呼び出して画像を表示する(cv2.imshow()は使用禁止)"
   ]
  },
  {
   "cell_type": "code",
   "execution_count": null,
   "metadata": {},
   "outputs": [],
   "source": [
    "\n"
   ]
  },
  {
   "cell_type": "markdown",
   "metadata": {},
   "source": [
    "## (No.7) OpenCV形式で画像(deepcat.png)を呼び出して画像を表示する(cv2.imshow()は使用禁止)"
   ]
  },
  {
   "cell_type": "code",
   "execution_count": null,
   "metadata": {},
   "outputs": [],
   "source": [
    "\n"
   ]
  },
  {
   "cell_type": "markdown",
   "metadata": {},
   "source": [
    "## (No.8) No.6(PIL)とNo.7(OpenCV)の違いは？\n",
    "## その差を修正してみましょう　（No6の画像をNo7の画像と同等にする）"
   ]
  },
  {
   "cell_type": "code",
   "execution_count": null,
   "metadata": {},
   "outputs": [],
   "source": []
  },
  {
   "cell_type": "markdown",
   "metadata": {},
   "source": [
    "## (No.9)　データセット作成  dataフォルダ(catsフォルダ:10枚、dogsフォルダ:10枚）からデータを吸い出し,128x128にリサイズし、X：画像データ、 Y：ラベルデータとなるnumpy 配列を作りましょう\n",
    "## ヒント：後々Kerasで使うので　X.shape ⇒ (20,128,128,3)  Y.shape ⇒(20,)"
   ]
  },
  {
   "cell_type": "code",
   "execution_count": null,
   "metadata": {},
   "outputs": [],
   "source": [
    "\n",
    "\n"
   ]
  },
  {
   "cell_type": "markdown",
   "metadata": {},
   "source": [
    "## (No.10)　データセットの確認　正しく取得できたか全画像を縦4x横5サイズで表示してみましょう\n",
    "## ついでにYの中身も見てみましょう"
   ]
  },
  {
   "cell_type": "code",
   "execution_count": null,
   "metadata": {},
   "outputs": [],
   "source": [
    "\n"
   ]
  },
  {
   "cell_type": "markdown",
   "metadata": {},
   "source": [
    "## (No11)　データセットX,Yを学習用データX_train,y_train   評価用データX_test, y_testに 7:3 の比率で分割し No10の様に表示して正しく分割されているか確認しましょう"
   ]
  },
  {
   "cell_type": "code",
   "execution_count": null,
   "metadata": {},
   "outputs": [],
   "source": [
    "\n"
   ]
  },
  {
   "cell_type": "markdown",
   "metadata": {},
   "source": [
    "# ここからは物理PCやラズパイなどでやりましょう（Google Colabではカメラが非常に扱いにくいので）"
   ]
  },
  {
   "cell_type": "markdown",
   "metadata": {},
   "source": [
    "## (No.12)  opencv + カメラ（WebカメラやPCのFrontカメラ）を使って動画を別window表示し、画像を撮像取得できるプログラムを作成する\n",
    "## キーボードのsキーを押すと撮像して画像をファイル(ファイル名はtest.png)として保存、ESCキーを押すとプログラムを終了すること"
   ]
  },
  {
   "cell_type": "code",
   "execution_count": null,
   "metadata": {},
   "outputs": [],
   "source": [
    "\n"
   ]
  },
  {
   "cell_type": "markdown",
   "metadata": {},
   "source": [
    "## (No.13)  No.12のレベルアップをしましょう\n",
    "## 本日の日付フォルダを生成（例：20200520)し、その中に連番を付けてファイルを保存できるようにしてみましょう"
   ]
  },
  {
   "cell_type": "code",
   "execution_count": null,
   "metadata": {},
   "outputs": [],
   "source": [
    "\n"
   ]
  },
  {
   "cell_type": "markdown",
   "metadata": {},
   "source": [
    "# お疲れ様でした！ Pythonの基礎、データセット作成、カメラ撮像までできるようになりましたね！　あとは機械学習だけ！"
   ]
  }
 ],
 "metadata": {
  "kernelspec": {
   "display_name": "Python 3",
   "language": "python",
   "name": "python3"
  },
  "language_info": {
   "codemirror_mode": {
    "name": "ipython",
    "version": 3
   },
   "file_extension": ".py",
   "mimetype": "text/x-python",
   "name": "python",
   "nbconvert_exporter": "python",
   "pygments_lexer": "ipython3",
   "version": "3.6.10"
  }
 },
 "nbformat": 4,
 "nbformat_minor": 4
}
